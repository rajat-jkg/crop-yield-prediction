{
 "cells": [
  {
   "cell_type": "markdown",
   "id": "ca64b1ba-bb82-4c8d-a2df-f81c32ac9e67",
   "metadata": {},
   "source": [
    "# Model training for maize"
   ]
  },
  {
   "cell_type": "code",
   "execution_count": 2,
   "id": "e1fc82d5-672c-4d04-9f8c-c04a43dfc801",
   "metadata": {},
   "outputs": [],
   "source": [
    "from sklearn import linear_model, svm\n",
    "import pandas as pd\n",
    "import matplotlib.pyplot as mlp\n",
    "from datetime import datetime"
   ]
  },
  {
   "cell_type": "code",
   "execution_count": 3,
   "id": "dc217003-45aa-4c75-aab6-72ae7c6a275a",
   "metadata": {},
   "outputs": [
    {
     "data": {
      "text/html": [
       "<div>\n",
       "<style scoped>\n",
       "    .dataframe tbody tr th:only-of-type {\n",
       "        vertical-align: middle;\n",
       "    }\n",
       "\n",
       "    .dataframe tbody tr th {\n",
       "        vertical-align: top;\n",
       "    }\n",
       "\n",
       "    .dataframe thead th {\n",
       "        text-align: right;\n",
       "    }\n",
       "</style>\n",
       "<table border=\"1\" class=\"dataframe\">\n",
       "  <thead>\n",
       "    <tr style=\"text-align: right;\">\n",
       "      <th></th>\n",
       "      <th>Year</th>\n",
       "      <th>Rainfall_june_aug</th>\n",
       "      <th>Yeild_hg_per_ha</th>\n",
       "    </tr>\n",
       "  </thead>\n",
       "  <tbody>\n",
       "    <tr>\n",
       "      <th>0</th>\n",
       "      <td>1990</td>\n",
       "      <td>33216.3</td>\n",
       "      <td>15178</td>\n",
       "    </tr>\n",
       "    <tr>\n",
       "      <th>1</th>\n",
       "      <td>1991</td>\n",
       "      <td>32804.3</td>\n",
       "      <td>13763</td>\n",
       "    </tr>\n",
       "    <tr>\n",
       "      <th>2</th>\n",
       "      <td>1992</td>\n",
       "      <td>30788.3</td>\n",
       "      <td>16758</td>\n",
       "    </tr>\n",
       "    <tr>\n",
       "      <th>3</th>\n",
       "      <td>1993</td>\n",
       "      <td>29985.9</td>\n",
       "      <td>16015</td>\n",
       "    </tr>\n",
       "    <tr>\n",
       "      <th>4</th>\n",
       "      <td>1994</td>\n",
       "      <td>35361.3</td>\n",
       "      <td>14480</td>\n",
       "    </tr>\n",
       "    <tr>\n",
       "      <th>5</th>\n",
       "      <td>1995</td>\n",
       "      <td>32364.7</td>\n",
       "      <td>15946</td>\n",
       "    </tr>\n",
       "    <tr>\n",
       "      <th>6</th>\n",
       "      <td>1996</td>\n",
       "      <td>31623.7</td>\n",
       "      <td>17094</td>\n",
       "    </tr>\n",
       "    <tr>\n",
       "      <th>7</th>\n",
       "      <td>1997</td>\n",
       "      <td>32356.6</td>\n",
       "      <td>17111</td>\n",
       "    </tr>\n",
       "    <tr>\n",
       "      <th>8</th>\n",
       "      <td>1998</td>\n",
       "      <td>31619.9</td>\n",
       "      <td>17969</td>\n",
       "    </tr>\n",
       "    <tr>\n",
       "      <th>9</th>\n",
       "      <td>1999</td>\n",
       "      <td>29466.6</td>\n",
       "      <td>17922</td>\n",
       "    </tr>\n",
       "    <tr>\n",
       "      <th>10</th>\n",
       "      <td>2000</td>\n",
       "      <td>29789.5</td>\n",
       "      <td>18216</td>\n",
       "    </tr>\n",
       "    <tr>\n",
       "      <th>11</th>\n",
       "      <td>2001</td>\n",
       "      <td>29204.9</td>\n",
       "      <td>19996</td>\n",
       "    </tr>\n",
       "    <tr>\n",
       "      <th>12</th>\n",
       "      <td>2002</td>\n",
       "      <td>24671.7</td>\n",
       "      <td>16807</td>\n",
       "    </tr>\n",
       "    <tr>\n",
       "      <th>13</th>\n",
       "      <td>2004</td>\n",
       "      <td>28739.5</td>\n",
       "      <td>19073</td>\n",
       "    </tr>\n",
       "    <tr>\n",
       "      <th>14</th>\n",
       "      <td>2005</td>\n",
       "      <td>29731.6</td>\n",
       "      <td>19385</td>\n",
       "    </tr>\n",
       "    <tr>\n",
       "      <th>15</th>\n",
       "      <td>2006</td>\n",
       "      <td>30671.6</td>\n",
       "      <td>19125</td>\n",
       "    </tr>\n",
       "    <tr>\n",
       "      <th>16</th>\n",
       "      <td>2007</td>\n",
       "      <td>33982.2</td>\n",
       "      <td>23352</td>\n",
       "    </tr>\n",
       "    <tr>\n",
       "      <th>17</th>\n",
       "      <td>2008</td>\n",
       "      <td>30951.6</td>\n",
       "      <td>24140</td>\n",
       "    </tr>\n",
       "    <tr>\n",
       "      <th>18</th>\n",
       "      <td>2009</td>\n",
       "      <td>24849.1</td>\n",
       "      <td>20238</td>\n",
       "    </tr>\n",
       "    <tr>\n",
       "      <th>19</th>\n",
       "      <td>2010</td>\n",
       "      <td>31304.6</td>\n",
       "      <td>25401</td>\n",
       "    </tr>\n",
       "    <tr>\n",
       "      <th>20</th>\n",
       "      <td>2011</td>\n",
       "      <td>31867.4</td>\n",
       "      <td>24784</td>\n",
       "    </tr>\n",
       "    <tr>\n",
       "      <th>21</th>\n",
       "      <td>2012</td>\n",
       "      <td>27905.8</td>\n",
       "      <td>25557</td>\n",
       "    </tr>\n",
       "    <tr>\n",
       "      <th>22</th>\n",
       "      <td>2013</td>\n",
       "      <td>33635.7</td>\n",
       "      <td>25726</td>\n",
       "    </tr>\n",
       "    <tr>\n",
       "      <th>23</th>\n",
       "      <td>2014</td>\n",
       "      <td>29037.9</td>\n",
       "      <td>26760</td>\n",
       "    </tr>\n",
       "    <tr>\n",
       "      <th>24</th>\n",
       "      <td>2015</td>\n",
       "      <td>29954.6</td>\n",
       "      <td>26320</td>\n",
       "    </tr>\n",
       "  </tbody>\n",
       "</table>\n",
       "</div>"
      ],
      "text/plain": [
       "    Year  Rainfall_june_aug  Yeild_hg_per_ha\n",
       "0   1990            33216.3            15178\n",
       "1   1991            32804.3            13763\n",
       "2   1992            30788.3            16758\n",
       "3   1993            29985.9            16015\n",
       "4   1994            35361.3            14480\n",
       "5   1995            32364.7            15946\n",
       "6   1996            31623.7            17094\n",
       "7   1997            32356.6            17111\n",
       "8   1998            31619.9            17969\n",
       "9   1999            29466.6            17922\n",
       "10  2000            29789.5            18216\n",
       "11  2001            29204.9            19996\n",
       "12  2002            24671.7            16807\n",
       "13  2004            28739.5            19073\n",
       "14  2005            29731.6            19385\n",
       "15  2006            30671.6            19125\n",
       "16  2007            33982.2            23352\n",
       "17  2008            30951.6            24140\n",
       "18  2009            24849.1            20238\n",
       "19  2010            31304.6            25401\n",
       "20  2011            31867.4            24784\n",
       "21  2012            27905.8            25557\n",
       "22  2013            33635.7            25726\n",
       "23  2014            29037.9            26760\n",
       "24  2015            29954.6            26320"
      ]
     },
     "execution_count": 3,
     "metadata": {},
     "output_type": "execute_result"
    }
   ],
   "source": [
    "pd.options.mode.copy_on_write = True\n",
    "df = pd.read_csv('maize-data.csv')\n",
    "df"
   ]
  },
  {
   "cell_type": "code",
   "execution_count": 4,
   "id": "e8c1a616-b5fd-4f25-b487-f8cfd7633a24",
   "metadata": {},
   "outputs": [
    {
     "data": {
      "text/plain": [
       "<matplotlib.collections.PathCollection at 0x27b848c57c0>"
      ]
     },
     "execution_count": 4,
     "metadata": {},
     "output_type": "execute_result"
    },
    {
     "data": {
      "image/png": "[encoded data removed]",
      "text/plain": [
       "<Figure size 640x480 with 1 Axes>"
      ]
     },
     "metadata": {},
     "output_type": "display_data"
    }
   ],
   "source": [
    "%matplotlib inline\n",
    "mlp.scatter(df['Rainfall_june_aug'],df['Yeild_hg_per_ha'])"
   ]
  },
  {
   "cell_type": "code",
   "execution_count": 9,
   "id": "d43107cb-cf47-4102-8f03-c6f2adc756d1",
   "metadata": {},
   "outputs": [
    {
     "data": {
      "text/plain": [
       "<matplotlib.collections.PathCollection at 0x27b8697e840>"
      ]
     },
     "execution_count": 9,
     "metadata": {},
     "output_type": "execute_result"
    },
    {
     "data": {
      "image/png": "[encoded data removed]",
      "text/plain": [
       "<Figure size 640x480 with 1 Axes>"
      ]
     },
     "metadata": {},
     "output_type": "display_data"
    }
   ],
   "source": [
    "# data after 2000\n",
    "df2 = df[11:]\n",
    "%matplotlib inline\n",
    "mlp.scatter(df2['Rainfall_june_aug'],df2['Yeild_hg_per_ha'], marker='*')"
   ]
  },
  {
   "cell_type": "markdown",
   "id": "afc644a4-ce38-4881-80ea-e1e2cf366426",
   "metadata": {},
   "source": [
    "# Linear Regression"
   ]
  },
  {
   "cell_type": "markdown",
   "id": "2ee6b2e0-7f50-4574-a7b3-3f7b41eb625a",
   "metadata": {},
   "source": [
    "## Whole data"
   ]
  },
  {
   "cell_type": "code",
   "execution_count": 11,
   "id": "aa70fc92-f84a-4914-a0af-11595a8d1075",
   "metadata": {},
   "outputs": [
    {
     "name": "stdout",
     "output_type": "stream",
     "text": [
      "Time Elapsed 0:00:00.004257\n"
     ]
    }
   ],
   "source": [
    "model = linear_model.LinearRegression()\n",
    "df1train , df1test = df[:20] , df[20:]\n",
    "start = datetime.now()\n",
    "model.fit(df1train[['Rainfall_june_aug']], df1train.Yeild_hg_per_ha )\n",
    "print('Time Elapsed', datetime.now()-start)"
   ]
  },
  {
   "cell_type": "code",
   "execution_count": 16,
   "id": "9e631bc2-d366-4dfb-bd5a-72e7d0310de1",
   "metadata": {},
   "outputs": [
    {
     "data": {
      "text/plain": [
       "array([18166.38, 18936.89, 17822.45, 18716.7 , 18538.41])"
      ]
     },
     "execution_count": 16,
     "metadata": {},
     "output_type": "execute_result"
    }
   ],
   "source": [
    "result = model.predict(df1test[['Rainfall_june_aug']]).round(2)\n",
    "result"
   ]
  },
  {
   "cell_type": "code",
   "execution_count": 17,
   "id": "ce987e7d-e65d-4b42-ac21-382f54989c3f",
   "metadata": {},
   "outputs": [],
   "source": [
    "df1test['Prediction'] = result\n",
    "df1test['Accuracy'] = round(100 - abs(((df1test['Prediction'] - df1test['Yeild_hg_per_ha'])/df1test['Yeild_hg_per_ha']) * 100) , 2)"
   ]
  },
  {
   "cell_type": "code",
   "execution_count": 18,
   "id": "889a54ab-cf1f-497c-8078-06f1ba7b76a9",
   "metadata": {},
   "outputs": [
    {
     "data": {
      "text/html": [
       "<div>\n",
       "<style scoped>\n",
       "    .dataframe tbody tr th:only-of-type {\n",
       "        vertical-align: middle;\n",
       "    }\n",
       "\n",
       "    .dataframe tbody tr th {\n",
       "        vertical-align: top;\n",
       "    }\n",
       "\n",
       "    .dataframe thead th {\n",
       "        text-align: right;\n",
       "    }\n",
       "</style>\n",
       "<table border=\"1\" class=\"dataframe\">\n",
       "  <thead>\n",
       "    <tr style=\"text-align: right;\">\n",
       "      <th></th>\n",
       "      <th>Year</th>\n",
       "      <th>Rainfall_june_aug</th>\n",
       "      <th>Yeild_hg_per_ha</th>\n",
       "      <th>Prediction</th>\n",
       "      <th>Accuracy</th>\n",
       "    </tr>\n",
       "  </thead>\n",
       "  <tbody>\n",
       "    <tr>\n",
       "      <th>20</th>\n",
       "      <td>2011</td>\n",
       "      <td>31867.4</td>\n",
       "      <td>24784</td>\n",
       "      <td>18166.38</td>\n",
       "      <td>73.30</td>\n",
       "    </tr>\n",
       "    <tr>\n",
       "      <th>21</th>\n",
       "      <td>2012</td>\n",
       "      <td>27905.8</td>\n",
       "      <td>25557</td>\n",
       "      <td>18936.89</td>\n",
       "      <td>74.10</td>\n",
       "    </tr>\n",
       "    <tr>\n",
       "      <th>22</th>\n",
       "      <td>2013</td>\n",
       "      <td>33635.7</td>\n",
       "      <td>25726</td>\n",
       "      <td>17822.45</td>\n",
       "      <td>69.28</td>\n",
       "    </tr>\n",
       "    <tr>\n",
       "      <th>23</th>\n",
       "      <td>2014</td>\n",
       "      <td>29037.9</td>\n",
       "      <td>26760</td>\n",
       "      <td>18716.70</td>\n",
       "      <td>69.94</td>\n",
       "    </tr>\n",
       "    <tr>\n",
       "      <th>24</th>\n",
       "      <td>2015</td>\n",
       "      <td>29954.6</td>\n",
       "      <td>26320</td>\n",
       "      <td>18538.41</td>\n",
       "      <td>70.43</td>\n",
       "    </tr>\n",
       "  </tbody>\n",
       "</table>\n",
       "</div>"
      ],
      "text/plain": [
       "    Year  Rainfall_june_aug  Yeild_hg_per_ha  Prediction  Accuracy\n",
       "20  2011            31867.4            24784    18166.38     73.30\n",
       "21  2012            27905.8            25557    18936.89     74.10\n",
       "22  2013            33635.7            25726    17822.45     69.28\n",
       "23  2014            29037.9            26760    18716.70     69.94\n",
       "24  2015            29954.6            26320    18538.41     70.43"
      ]
     },
     "execution_count": 18,
     "metadata": {},
     "output_type": "execute_result"
    }
   ],
   "source": [
    "df1test"
   ]
  },
  {
   "cell_type": "markdown",
   "id": "ca0fdfcd-1eaa-4b37-888d-3b9575822490",
   "metadata": {},
   "source": [
    "### Average accuracy"
   ]
  },
  {
   "cell_type": "code",
   "execution_count": 25,
   "id": "35b14604-f1b5-4bc6-8b57-ac63f9e74eea",
   "metadata": {},
   "outputs": [
    {
     "data": {
      "text/plain": [
       "71.41"
      ]
     },
     "execution_count": 25,
     "metadata": {},
     "output_type": "execute_result"
    }
   ],
   "source": [
    "df1test['Accuracy'].mean()"
   ]
  },
  {
   "cell_type": "markdown",
   "id": "17a2792a-39fa-4905-b0c0-8b594d06e208",
   "metadata": {},
   "source": [
    "## After 2001"
   ]
  },
  {
   "cell_type": "code",
   "execution_count": 21,
   "id": "ecd43f44-8176-450f-acf1-10ff594b65d6",
   "metadata": {},
   "outputs": [
    {
     "name": "stdout",
     "output_type": "stream",
     "text": [
      "Time Elapsed 0:00:00.003002\n"
     ]
    }
   ],
   "source": [
    "model2 = linear_model.LinearRegression()\n",
    "df2train , df2test = df2[:10] , df2[10:]\n",
    "start = datetime.now()\n",
    "model.fit(df2train[['Rainfall_june_aug']], df2train.Yeild_hg_per_ha )\n",
    "print('Time Elapsed', datetime.now()-start)"
   ]
  },
  {
   "cell_type": "code",
   "execution_count": 22,
   "id": "bb4a9fc7-cef3-41d2-9e2b-75d4d775366e",
   "metadata": {},
   "outputs": [
    {
     "data": {
      "text/plain": [
       "array([20042.55, 24065.04, 20837.31, 21480.85])"
      ]
     },
     "execution_count": 22,
     "metadata": {},
     "output_type": "execute_result"
    }
   ],
   "source": [
    "result = model.predict(df2test[['Rainfall_june_aug']]).round(2)\n",
    "result"
   ]
  },
  {
   "cell_type": "code",
   "execution_count": 23,
   "id": "f8eb80cc-e1e3-46a4-a538-9e752b8b92eb",
   "metadata": {},
   "outputs": [],
   "source": [
    "df2test['Prediction'] = result\n",
    "df2test['Accuracy'] = round(100 - abs(((df1test['Prediction'] - df2test['Yeild_hg_per_ha'])/df2test['Yeild_hg_per_ha']) * 100) , 2)"
   ]
  },
  {
   "cell_type": "code",
   "execution_count": 24,
   "id": "25c44782-d7ec-4045-93d4-3389dc430686",
   "metadata": {},
   "outputs": [
    {
     "data": {
      "text/html": [
       "<div>\n",
       "<style scoped>\n",
       "    .dataframe tbody tr th:only-of-type {\n",
       "        vertical-align: middle;\n",
       "    }\n",
       "\n",
       "    .dataframe tbody tr th {\n",
       "        vertical-align: top;\n",
       "    }\n",
       "\n",
       "    .dataframe thead th {\n",
       "        text-align: right;\n",
       "    }\n",
       "</style>\n",
       "<table border=\"1\" class=\"dataframe\">\n",
       "  <thead>\n",
       "    <tr style=\"text-align: right;\">\n",
       "      <th></th>\n",
       "      <th>Year</th>\n",
       "      <th>Rainfall_june_aug</th>\n",
       "      <th>Yeild_hg_per_ha</th>\n",
       "      <th>Prediction</th>\n",
       "      <th>Accuracy</th>\n",
       "    </tr>\n",
       "  </thead>\n",
       "  <tbody>\n",
       "    <tr>\n",
       "      <th>21</th>\n",
       "      <td>2012</td>\n",
       "      <td>27905.8</td>\n",
       "      <td>25557</td>\n",
       "      <td>20042.55</td>\n",
       "      <td>74.10</td>\n",
       "    </tr>\n",
       "    <tr>\n",
       "      <th>22</th>\n",
       "      <td>2013</td>\n",
       "      <td>33635.7</td>\n",
       "      <td>25726</td>\n",
       "      <td>24065.04</td>\n",
       "      <td>69.28</td>\n",
       "    </tr>\n",
       "    <tr>\n",
       "      <th>23</th>\n",
       "      <td>2014</td>\n",
       "      <td>29037.9</td>\n",
       "      <td>26760</td>\n",
       "      <td>20837.31</td>\n",
       "      <td>69.94</td>\n",
       "    </tr>\n",
       "    <tr>\n",
       "      <th>24</th>\n",
       "      <td>2015</td>\n",
       "      <td>29954.6</td>\n",
       "      <td>26320</td>\n",
       "      <td>21480.85</td>\n",
       "      <td>70.43</td>\n",
       "    </tr>\n",
       "  </tbody>\n",
       "</table>\n",
       "</div>"
      ],
      "text/plain": [
       "    Year  Rainfall_june_aug  Yeild_hg_per_ha  Prediction  Accuracy\n",
       "21  2012            27905.8            25557    20042.55     74.10\n",
       "22  2013            33635.7            25726    24065.04     69.28\n",
       "23  2014            29037.9            26760    20837.31     69.94\n",
       "24  2015            29954.6            26320    21480.85     70.43"
      ]
     },
     "execution_count": 24,
     "metadata": {},
     "output_type": "execute_result"
    }
   ],
   "source": [
    "df2test"
   ]
  },
  {
   "cell_type": "markdown",
   "id": "d7131211-3e0c-4e94-8e9f-ef0421d18013",
   "metadata": {},
   "source": [
    "### average accuracy"
   ]
  },
  {
   "cell_type": "code",
   "execution_count": 26,
   "id": "0fa78576-5e24-4cca-80c6-6ebb59bf072c",
   "metadata": {},
   "outputs": [
    {
     "data": {
      "text/plain": [
       "70.9375"
      ]
     },
     "execution_count": 26,
     "metadata": {},
     "output_type": "execute_result"
    }
   ],
   "source": [
    "df2test['Accuracy'].mean()"
   ]
  },
  {
   "cell_type": "markdown",
   "id": "68bf3fa3-f40e-4e0e-921a-d2a069f3c562",
   "metadata": {},
   "source": [
    "# SVM"
   ]
  },
  {
   "cell_type": "markdown",
   "id": "c283148d-bd9e-4eba-8a28-897bcdab9c49",
   "metadata": {},
   "source": [
    "## Whole data"
   ]
  },
  {
   "cell_type": "code",
   "execution_count": 27,
   "id": "457dc866-2353-483c-901a-10d19ae8aa71",
   "metadata": {},
   "outputs": [
    {
     "name": "stdout",
     "output_type": "stream",
     "text": [
      "Time Elapsed 0:00:00.007002\n"
     ]
    }
   ],
   "source": [
    "svmModel = svm.SVR()\n",
    "df1train2 , df1test2 = df[:20] , df[20:]\n",
    "start = datetime.now()\n",
    "svmModel.fit(df1train2[['Rainfall_june_aug']], df1train2.Yeild_hg_per_ha )\n",
    "print('Time Elapsed', datetime.now()-start)"
   ]
  },
  {
   "cell_type": "code",
   "execution_count": 29,
   "id": "583763f1-7c78-4ff1-a78d-93992814f986",
   "metadata": {},
   "outputs": [
    {
     "data": {
      "text/html": [
       "<div>\n",
       "<style scoped>\n",
       "    .dataframe tbody tr th:only-of-type {\n",
       "        vertical-align: middle;\n",
       "    }\n",
       "\n",
       "    .dataframe tbody tr th {\n",
       "        vertical-align: top;\n",
       "    }\n",
       "\n",
       "    .dataframe thead th {\n",
       "        text-align: right;\n",
       "    }\n",
       "</style>\n",
       "<table border=\"1\" class=\"dataframe\">\n",
       "  <thead>\n",
       "    <tr style=\"text-align: right;\">\n",
       "      <th></th>\n",
       "      <th>Year</th>\n",
       "      <th>Rainfall_june_aug</th>\n",
       "      <th>Yeild_hg_per_ha</th>\n",
       "      <th>Prediction</th>\n",
       "      <th>Accuracy</th>\n",
       "    </tr>\n",
       "  </thead>\n",
       "  <tbody>\n",
       "    <tr>\n",
       "      <th>20</th>\n",
       "      <td>2011</td>\n",
       "      <td>31867.4</td>\n",
       "      <td>24784</td>\n",
       "      <td>17943.65</td>\n",
       "      <td>72.40</td>\n",
       "    </tr>\n",
       "    <tr>\n",
       "      <th>21</th>\n",
       "      <td>2012</td>\n",
       "      <td>27905.8</td>\n",
       "      <td>25557</td>\n",
       "      <td>17946.47</td>\n",
       "      <td>70.22</td>\n",
       "    </tr>\n",
       "    <tr>\n",
       "      <th>22</th>\n",
       "      <td>2013</td>\n",
       "      <td>33635.7</td>\n",
       "      <td>25726</td>\n",
       "      <td>17942.20</td>\n",
       "      <td>69.74</td>\n",
       "    </tr>\n",
       "    <tr>\n",
       "      <th>23</th>\n",
       "      <td>2014</td>\n",
       "      <td>29037.9</td>\n",
       "      <td>26760</td>\n",
       "      <td>17947.01</td>\n",
       "      <td>67.07</td>\n",
       "    </tr>\n",
       "    <tr>\n",
       "      <th>24</th>\n",
       "      <td>2015</td>\n",
       "      <td>29954.6</td>\n",
       "      <td>26320</td>\n",
       "      <td>17946.62</td>\n",
       "      <td>68.19</td>\n",
       "    </tr>\n",
       "  </tbody>\n",
       "</table>\n",
       "</div>"
      ],
      "text/plain": [
       "    Year  Rainfall_june_aug  Yeild_hg_per_ha  Prediction  Accuracy\n",
       "20  2011            31867.4            24784    17943.65     72.40\n",
       "21  2012            27905.8            25557    17946.47     70.22\n",
       "22  2013            33635.7            25726    17942.20     69.74\n",
       "23  2014            29037.9            26760    17947.01     67.07\n",
       "24  2015            29954.6            26320    17946.62     68.19"
      ]
     },
     "execution_count": 29,
     "metadata": {},
     "output_type": "execute_result"
    }
   ],
   "source": [
    "result = svmModel.predict(df1test2[['Rainfall_june_aug']]).round(2)\n",
    "df1test2['Prediction'] = result\n",
    "df1test2[\"Accuracy\"] = round(100 - abs(((df1test2[\"Yeild_hg_per_ha\"]-df1test2['Prediction'])/df1test2[\"Yeild_hg_per_ha\"])*100),2)\n",
    "df1test2"
   ]
  },
  {
   "cell_type": "markdown",
   "id": "b1ce35f7-c79b-47bb-b51c-b8b8227a3cd2",
   "metadata": {},
   "source": [
    "### Average accuracy"
   ]
  },
  {
   "cell_type": "code",
   "execution_count": 30,
   "id": "ebb4da6a-9a62-4b87-b3ff-56d20c4d5282",
   "metadata": {},
   "outputs": [
    {
     "data": {
      "text/plain": [
       "69.524"
      ]
     },
     "execution_count": 30,
     "metadata": {},
     "output_type": "execute_result"
    }
   ],
   "source": [
    "df1test2['Accuracy'].mean()"
   ]
  },
  {
   "cell_type": "markdown",
   "id": "6d193354-6151-4bdd-9243-df8c660bceab",
   "metadata": {},
   "source": [
    "## After 2001"
   ]
  },
  {
   "cell_type": "code",
   "execution_count": 36,
   "id": "dc121d8b-4414-4672-9529-c8ad7221397a",
   "metadata": {},
   "outputs": [
    {
     "name": "stdout",
     "output_type": "stream",
     "text": [
      "Time Elapsed 0:00:00.003004\n"
     ]
    }
   ],
   "source": [
    "svmModel2 = svm.SVR()\n",
    "df2train2 , df2test2 = df2[:10] , df2[10:]\n",
    "start = datetime.now()\n",
    "svmModel2.fit(df2train2[['Rainfall_june_aug']], df2train2.Yeild_hg_per_ha )\n",
    "print('Time Elapsed', datetime.now()-start)"
   ]
  },
  {
   "cell_type": "code",
   "execution_count": 42,
   "id": "ad9275e6-25c7-4a6e-beb9-f4624e29a91b",
   "metadata": {},
   "outputs": [
    {
     "data": {
      "text/html": [
       "<div>\n",
       "<style scoped>\n",
       "    .dataframe tbody tr th:only-of-type {\n",
       "        vertical-align: middle;\n",
       "    }\n",
       "\n",
       "    .dataframe tbody tr th {\n",
       "        vertical-align: top;\n",
       "    }\n",
       "\n",
       "    .dataframe thead th {\n",
       "        text-align: right;\n",
       "    }\n",
       "</style>\n",
       "<table border=\"1\" class=\"dataframe\">\n",
       "  <thead>\n",
       "    <tr style=\"text-align: right;\">\n",
       "      <th></th>\n",
       "      <th>Year</th>\n",
       "      <th>Rainfall_june_aug</th>\n",
       "      <th>Yeild_hg_per_ha</th>\n",
       "      <th>Prediction</th>\n",
       "      <th>Accuracy</th>\n",
       "    </tr>\n",
       "  </thead>\n",
       "  <tbody>\n",
       "    <tr>\n",
       "      <th>21</th>\n",
       "      <td>2012</td>\n",
       "      <td>27905.8</td>\n",
       "      <td>25557</td>\n",
       "      <td>20116.09</td>\n",
       "      <td>78.71</td>\n",
       "    </tr>\n",
       "    <tr>\n",
       "      <th>22</th>\n",
       "      <td>2013</td>\n",
       "      <td>33635.7</td>\n",
       "      <td>25726</td>\n",
       "      <td>20120.08</td>\n",
       "      <td>78.21</td>\n",
       "    </tr>\n",
       "    <tr>\n",
       "      <th>23</th>\n",
       "      <td>2014</td>\n",
       "      <td>29037.9</td>\n",
       "      <td>26760</td>\n",
       "      <td>20116.05</td>\n",
       "      <td>75.17</td>\n",
       "    </tr>\n",
       "    <tr>\n",
       "      <th>24</th>\n",
       "      <td>2015</td>\n",
       "      <td>29954.6</td>\n",
       "      <td>26320</td>\n",
       "      <td>20116.87</td>\n",
       "      <td>76.43</td>\n",
       "    </tr>\n",
       "  </tbody>\n",
       "</table>\n",
       "</div>"
      ],
      "text/plain": [
       "    Year  Rainfall_june_aug  Yeild_hg_per_ha  Prediction  Accuracy\n",
       "21  2012            27905.8            25557    20116.09     78.71\n",
       "22  2013            33635.7            25726    20120.08     78.21\n",
       "23  2014            29037.9            26760    20116.05     75.17\n",
       "24  2015            29954.6            26320    20116.87     76.43"
      ]
     },
     "execution_count": 42,
     "metadata": {},
     "output_type": "execute_result"
    }
   ],
   "source": [
    "result = svmModel2.predict(df2test[['Rainfall_june_aug']]).round(2)\n",
    "df2test2['Prediction'] = result\n",
    "df2test2[\"Accuracy\"] = round(100 - abs(((df2test2[\"Yeild_hg_per_ha\"]-df2test2['Prediction'])/df2test2[\"Yeild_hg_per_ha\"])*100),2)\n",
    "df2test2"
   ]
  },
  {
   "cell_type": "markdown",
   "id": "080686df-714e-4f99-852c-dd9f01f6ec7e",
   "metadata": {},
   "source": [
    "### Average Accuracy"
   ]
  },
  {
   "cell_type": "code",
   "execution_count": 43,
   "id": "df0a496a-8689-48be-acc9-b129f4cbdc52",
   "metadata": {},
   "outputs": [
    {
     "data": {
      "text/plain": [
       "77.13"
      ]
     },
     "execution_count": 43,
     "metadata": {},
     "output_type": "execute_result"
    }
   ],
   "source": [
    "df2test2[\"Accuracy\"].mean()"
   ]
  }
 ],
 "metadata": {
  "kernelspec": {
   "display_name": "Python 3 (ipykernel)",
   "language": "python",
   "name": "python3"
  },
  "language_info": {
   "codemirror_mode": {
    "name": "ipython",
    "version": 3
   },
   "file_extension": ".py",
   "mimetype": "text/x-python",
   "name": "python",
   "nbconvert_exporter": "python",
   "pygments_lexer": "ipython3",
   "version": "3.11.0"
  }
 },
 "nbformat": 4,
 "nbformat_minor": 5
}
