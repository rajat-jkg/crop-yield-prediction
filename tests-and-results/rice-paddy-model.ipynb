{
 "cells": [
  {
   "cell_type": "code",
   "execution_count": 1,
   "id": "f7560351-6263-44a9-9101-281671aadcfe",
   "metadata": {},
   "outputs": [],
   "source": [
    "from sklearn import linear_model, svm\n",
    "import pandas as pd\n",
    "import matplotlib.pyplot as mlp\n",
    "from datetime import datetime"
   ]
  },
  {
   "cell_type": "code",
   "execution_count": 2,
   "id": "b19629b7-b071-48e7-a28b-c35b5d648c78",
   "metadata": {},
   "outputs": [
    {
     "data": {
      "text/html": [
       "<div>\n",
       "<style scoped>\n",
       "    .dataframe tbody tr th:only-of-type {\n",
       "        vertical-align: middle;\n",
       "    }\n",
       "\n",
       "    .dataframe tbody tr th {\n",
       "        vertical-align: top;\n",
       "    }\n",
       "\n",
       "    .dataframe thead th {\n",
       "        text-align: right;\n",
       "    }\n",
       "</style>\n",
       "<table border=\"1\" class=\"dataframe\">\n",
       "  <thead>\n",
       "    <tr style=\"text-align: right;\">\n",
       "      <th></th>\n",
       "      <th>Year</th>\n",
       "      <th>Rainfall_june_to_december</th>\n",
       "      <th>hg_per_ha_yield</th>\n",
       "    </tr>\n",
       "  </thead>\n",
       "  <tbody>\n",
       "    <tr>\n",
       "      <th>0</th>\n",
       "      <td>1990</td>\n",
       "      <td>47458.1</td>\n",
       "      <td>26125</td>\n",
       "    </tr>\n",
       "    <tr>\n",
       "      <th>1</th>\n",
       "      <td>1991</td>\n",
       "      <td>43440.0</td>\n",
       "      <td>26271</td>\n",
       "    </tr>\n",
       "    <tr>\n",
       "      <th>2</th>\n",
       "      <td>1992</td>\n",
       "      <td>42145.8</td>\n",
       "      <td>26092</td>\n",
       "    </tr>\n",
       "    <tr>\n",
       "      <th>3</th>\n",
       "      <td>1993</td>\n",
       "      <td>44586.7</td>\n",
       "      <td>28303</td>\n",
       "    </tr>\n",
       "    <tr>\n",
       "      <th>4</th>\n",
       "      <td>1994</td>\n",
       "      <td>46970.7</td>\n",
       "      <td>28645</td>\n",
       "    </tr>\n",
       "    <tr>\n",
       "      <th>5</th>\n",
       "      <td>1995</td>\n",
       "      <td>45808.2</td>\n",
       "      <td>26972</td>\n",
       "    </tr>\n",
       "    <tr>\n",
       "      <th>6</th>\n",
       "      <td>1996</td>\n",
       "      <td>44071.6</td>\n",
       "      <td>28226</td>\n",
       "    </tr>\n",
       "    <tr>\n",
       "      <th>7</th>\n",
       "      <td>1997</td>\n",
       "      <td>45385.0</td>\n",
       "      <td>28457</td>\n",
       "    </tr>\n",
       "    <tr>\n",
       "      <th>8</th>\n",
       "      <td>1998</td>\n",
       "      <td>47913.8</td>\n",
       "      <td>28805</td>\n",
       "    </tr>\n",
       "    <tr>\n",
       "      <th>9</th>\n",
       "      <td>1999</td>\n",
       "      <td>42873.7</td>\n",
       "      <td>29782</td>\n",
       "    </tr>\n",
       "    <tr>\n",
       "      <th>10</th>\n",
       "      <td>2000</td>\n",
       "      <td>38945.3</td>\n",
       "      <td>28508</td>\n",
       "    </tr>\n",
       "    <tr>\n",
       "      <th>11</th>\n",
       "      <td>2001</td>\n",
       "      <td>39782.4</td>\n",
       "      <td>31158</td>\n",
       "    </tr>\n",
       "    <tr>\n",
       "      <th>12</th>\n",
       "      <td>2002</td>\n",
       "      <td>34329.1</td>\n",
       "      <td>26163</td>\n",
       "    </tr>\n",
       "    <tr>\n",
       "      <th>13</th>\n",
       "      <td>2004</td>\n",
       "      <td>38909.7</td>\n",
       "      <td>29756</td>\n",
       "    </tr>\n",
       "    <tr>\n",
       "      <th>14</th>\n",
       "      <td>2005</td>\n",
       "      <td>44655.9</td>\n",
       "      <td>31537</td>\n",
       "    </tr>\n",
       "    <tr>\n",
       "      <th>15</th>\n",
       "      <td>2006</td>\n",
       "      <td>42866.8</td>\n",
       "      <td>31759</td>\n",
       "    </tr>\n",
       "    <tr>\n",
       "      <th>16</th>\n",
       "      <td>2007</td>\n",
       "      <td>48014.4</td>\n",
       "      <td>32924</td>\n",
       "    </tr>\n",
       "    <tr>\n",
       "      <th>17</th>\n",
       "      <td>2008</td>\n",
       "      <td>42109.6</td>\n",
       "      <td>32509</td>\n",
       "    </tr>\n",
       "    <tr>\n",
       "      <th>18</th>\n",
       "      <td>2009</td>\n",
       "      <td>37182.5</td>\n",
       "      <td>32366</td>\n",
       "    </tr>\n",
       "    <tr>\n",
       "      <th>19</th>\n",
       "      <td>2010</td>\n",
       "      <td>46481.8</td>\n",
       "      <td>33587</td>\n",
       "    </tr>\n",
       "    <tr>\n",
       "      <th>20</th>\n",
       "      <td>2011</td>\n",
       "      <td>43459.5</td>\n",
       "      <td>35878</td>\n",
       "    </tr>\n",
       "    <tr>\n",
       "      <th>21</th>\n",
       "      <td>2012</td>\n",
       "      <td>41000.1</td>\n",
       "      <td>36909</td>\n",
       "    </tr>\n",
       "    <tr>\n",
       "      <th>22</th>\n",
       "      <td>2013</td>\n",
       "      <td>46605.5</td>\n",
       "      <td>36070</td>\n",
       "    </tr>\n",
       "  </tbody>\n",
       "</table>\n",
       "</div>"
      ],
      "text/plain": [
       "    Year  Rainfall_june_to_december  hg_per_ha_yield\n",
       "0   1990                    47458.1            26125\n",
       "1   1991                    43440.0            26271\n",
       "2   1992                    42145.8            26092\n",
       "3   1993                    44586.7            28303\n",
       "4   1994                    46970.7            28645\n",
       "5   1995                    45808.2            26972\n",
       "6   1996                    44071.6            28226\n",
       "7   1997                    45385.0            28457\n",
       "8   1998                    47913.8            28805\n",
       "9   1999                    42873.7            29782\n",
       "10  2000                    38945.3            28508\n",
       "11  2001                    39782.4            31158\n",
       "12  2002                    34329.1            26163\n",
       "13  2004                    38909.7            29756\n",
       "14  2005                    44655.9            31537\n",
       "15  2006                    42866.8            31759\n",
       "16  2007                    48014.4            32924\n",
       "17  2008                    42109.6            32509\n",
       "18  2009                    37182.5            32366\n",
       "19  2010                    46481.8            33587\n",
       "20  2011                    43459.5            35878\n",
       "21  2012                    41000.1            36909\n",
       "22  2013                    46605.5            36070"
      ]
     },
     "execution_count": 2,
     "metadata": {},
     "output_type": "execute_result"
    }
   ],
   "source": [
    "pd.options.mode.copy_on_write = True\n",
    "df = pd.read_csv('Rice-Data.csv')\n",
    "df"
   ]
  },
  {
   "cell_type": "code",
   "execution_count": 3,
   "id": "c273afbb-497f-4176-973a-be5893fd08d4",
   "metadata": {},
   "outputs": [
    {
     "data": {
      "text/html": [
       "<div>\n",
       "<style scoped>\n",
       "    .dataframe tbody tr th:only-of-type {\n",
       "        vertical-align: middle;\n",
       "    }\n",
       "\n",
       "    .dataframe tbody tr th {\n",
       "        vertical-align: top;\n",
       "    }\n",
       "\n",
       "    .dataframe thead th {\n",
       "        text-align: right;\n",
       "    }\n",
       "</style>\n",
       "<table border=\"1\" class=\"dataframe\">\n",
       "  <thead>\n",
       "    <tr style=\"text-align: right;\">\n",
       "      <th></th>\n",
       "      <th>Year</th>\n",
       "      <th>Rainfall_june_to_december</th>\n",
       "      <th>hg_per_ha_yield</th>\n",
       "    </tr>\n",
       "  </thead>\n",
       "  <tbody>\n",
       "    <tr>\n",
       "      <th>10</th>\n",
       "      <td>2000</td>\n",
       "      <td>38945.3</td>\n",
       "      <td>28508</td>\n",
       "    </tr>\n",
       "    <tr>\n",
       "      <th>11</th>\n",
       "      <td>2001</td>\n",
       "      <td>39782.4</td>\n",
       "      <td>31158</td>\n",
       "    </tr>\n",
       "    <tr>\n",
       "      <th>12</th>\n",
       "      <td>2002</td>\n",
       "      <td>34329.1</td>\n",
       "      <td>26163</td>\n",
       "    </tr>\n",
       "    <tr>\n",
       "      <th>13</th>\n",
       "      <td>2004</td>\n",
       "      <td>38909.7</td>\n",
       "      <td>29756</td>\n",
       "    </tr>\n",
       "    <tr>\n",
       "      <th>14</th>\n",
       "      <td>2005</td>\n",
       "      <td>44655.9</td>\n",
       "      <td>31537</td>\n",
       "    </tr>\n",
       "    <tr>\n",
       "      <th>15</th>\n",
       "      <td>2006</td>\n",
       "      <td>42866.8</td>\n",
       "      <td>31759</td>\n",
       "    </tr>\n",
       "    <tr>\n",
       "      <th>16</th>\n",
       "      <td>2007</td>\n",
       "      <td>48014.4</td>\n",
       "      <td>32924</td>\n",
       "    </tr>\n",
       "    <tr>\n",
       "      <th>17</th>\n",
       "      <td>2008</td>\n",
       "      <td>42109.6</td>\n",
       "      <td>32509</td>\n",
       "    </tr>\n",
       "    <tr>\n",
       "      <th>18</th>\n",
       "      <td>2009</td>\n",
       "      <td>37182.5</td>\n",
       "      <td>32366</td>\n",
       "    </tr>\n",
       "    <tr>\n",
       "      <th>19</th>\n",
       "      <td>2010</td>\n",
       "      <td>46481.8</td>\n",
       "      <td>33587</td>\n",
       "    </tr>\n",
       "    <tr>\n",
       "      <th>20</th>\n",
       "      <td>2011</td>\n",
       "      <td>43459.5</td>\n",
       "      <td>35878</td>\n",
       "    </tr>\n",
       "    <tr>\n",
       "      <th>21</th>\n",
       "      <td>2012</td>\n",
       "      <td>41000.1</td>\n",
       "      <td>36909</td>\n",
       "    </tr>\n",
       "    <tr>\n",
       "      <th>22</th>\n",
       "      <td>2013</td>\n",
       "      <td>46605.5</td>\n",
       "      <td>36070</td>\n",
       "    </tr>\n",
       "  </tbody>\n",
       "</table>\n",
       "</div>"
      ],
      "text/plain": [
       "    Year  Rainfall_june_to_december  hg_per_ha_yield\n",
       "10  2000                    38945.3            28508\n",
       "11  2001                    39782.4            31158\n",
       "12  2002                    34329.1            26163\n",
       "13  2004                    38909.7            29756\n",
       "14  2005                    44655.9            31537\n",
       "15  2006                    42866.8            31759\n",
       "16  2007                    48014.4            32924\n",
       "17  2008                    42109.6            32509\n",
       "18  2009                    37182.5            32366\n",
       "19  2010                    46481.8            33587\n",
       "20  2011                    43459.5            35878\n",
       "21  2012                    41000.1            36909\n",
       "22  2013                    46605.5            36070"
      ]
     },
     "execution_count": 3,
     "metadata": {},
     "output_type": "execute_result"
    }
   ],
   "source": [
    "df2 = df[10:]\n",
    "df2"
   ]
  },
  {
   "cell_type": "markdown",
   "id": "eea403ac-fad9-4a1d-bdbc-68689fe2a69d",
   "metadata": {},
   "source": [
    "# Linear Regression"
   ]
  },
  {
   "cell_type": "markdown",
   "id": "6ce3ea44-0d5c-4aee-94e4-f6f1acc1b2ad",
   "metadata": {},
   "source": [
    "## Whole data"
   ]
  },
  {
   "cell_type": "code",
   "execution_count": 4,
   "id": "10df1dac-427c-4de9-823f-0ee466a06959",
   "metadata": {},
   "outputs": [
    {
     "name": "stdout",
     "output_type": "stream",
     "text": [
      "Time Elapsed 0:00:00.017014\n"
     ]
    }
   ],
   "source": [
    "model = linear_model.LinearRegression()\n",
    "df1train , df1test = df[:19] , df[19:]\n",
    "start = datetime.now()\n",
    "model.fit( df1train[['Rainfall_june_to_december']], df1train.hg_per_ha_yield)\n",
    "print('Time Elapsed', datetime.now()-start)"
   ]
  },
  {
   "cell_type": "code",
   "execution_count": 5,
   "id": "b3ec8fad-8001-4cbf-81b0-34cceebfab44",
   "metadata": {},
   "outputs": [
    {
     "data": {
      "text/html": [
       "<div>\n",
       "<style scoped>\n",
       "    .dataframe tbody tr th:only-of-type {\n",
       "        vertical-align: middle;\n",
       "    }\n",
       "\n",
       "    .dataframe tbody tr th {\n",
       "        vertical-align: top;\n",
       "    }\n",
       "\n",
       "    .dataframe thead th {\n",
       "        text-align: right;\n",
       "    }\n",
       "</style>\n",
       "<table border=\"1\" class=\"dataframe\">\n",
       "  <thead>\n",
       "    <tr style=\"text-align: right;\">\n",
       "      <th></th>\n",
       "      <th>Year</th>\n",
       "      <th>Rainfall_june_to_december</th>\n",
       "      <th>hg_per_ha_yield</th>\n",
       "      <th>Prediction</th>\n",
       "      <th>Accuracy</th>\n",
       "    </tr>\n",
       "  </thead>\n",
       "  <tbody>\n",
       "    <tr>\n",
       "      <th>19</th>\n",
       "      <td>2010</td>\n",
       "      <td>46481.8</td>\n",
       "      <td>33587</td>\n",
       "      <td>29101.45</td>\n",
       "      <td>86.64</td>\n",
       "    </tr>\n",
       "    <tr>\n",
       "      <th>20</th>\n",
       "      <td>2011</td>\n",
       "      <td>43459.5</td>\n",
       "      <td>35878</td>\n",
       "      <td>29167.25</td>\n",
       "      <td>81.30</td>\n",
       "    </tr>\n",
       "    <tr>\n",
       "      <th>21</th>\n",
       "      <td>2012</td>\n",
       "      <td>41000.1</td>\n",
       "      <td>36909</td>\n",
       "      <td>29220.79</td>\n",
       "      <td>79.17</td>\n",
       "    </tr>\n",
       "    <tr>\n",
       "      <th>22</th>\n",
       "      <td>2013</td>\n",
       "      <td>46605.5</td>\n",
       "      <td>36070</td>\n",
       "      <td>29098.76</td>\n",
       "      <td>80.67</td>\n",
       "    </tr>\n",
       "  </tbody>\n",
       "</table>\n",
       "</div>"
      ],
      "text/plain": [
       "    Year  Rainfall_june_to_december  hg_per_ha_yield  Prediction  Accuracy\n",
       "19  2010                    46481.8            33587    29101.45     86.64\n",
       "20  2011                    43459.5            35878    29167.25     81.30\n",
       "21  2012                    41000.1            36909    29220.79     79.17\n",
       "22  2013                    46605.5            36070    29098.76     80.67"
      ]
     },
     "execution_count": 5,
     "metadata": {},
     "output_type": "execute_result"
    }
   ],
   "source": [
    "result = model.predict(df1test[['Rainfall_june_to_december']]).round(2)\n",
    "df1test['Prediction'] = result\n",
    "df1test['Accuracy'] = round(100 - abs(((df1test['Prediction'] - df1test['hg_per_ha_yield'])/df1test['hg_per_ha_yield']) * 100) , 2)\n",
    "df1test"
   ]
  },
  {
   "cell_type": "markdown",
   "id": "adb256a7-41e0-4c41-a652-57c754841c59",
   "metadata": {},
   "source": [
    "### average accuracy"
   ]
  },
  {
   "cell_type": "code",
   "execution_count": 6,
   "id": "8990cdd9-a6e3-4bce-b405-00ad97befd2e",
   "metadata": {},
   "outputs": [
    {
     "data": {
      "text/plain": [
       "81.94500000000001"
      ]
     },
     "execution_count": 6,
     "metadata": {},
     "output_type": "execute_result"
    }
   ],
   "source": [
    "df1test['Accuracy'].mean()"
   ]
  },
  {
   "cell_type": "markdown",
   "id": "9bfc761a-4dd0-45ee-bd46-e4972bdd46f2",
   "metadata": {},
   "source": [
    "## After 2000"
   ]
  },
  {
   "cell_type": "code",
   "execution_count": 16,
   "id": "81b2a2f6-a343-4796-aa44-d2984e9b4061",
   "metadata": {},
   "outputs": [
    {
     "name": "stdout",
     "output_type": "stream",
     "text": [
      "Time Elapsed 0:00:00.003012\n"
     ]
    }
   ],
   "source": [
    "model2 = linear_model.LinearRegression()\n",
    "df2train , df2test = df2[:9] , df2[9:]\n",
    "start = datetime.now()\n",
    "model2.fit( df2train[['Rainfall_june_to_december']], df2train.hg_per_ha_yield)\n",
    "print('Time Elapsed', datetime.now()-start)"
   ]
  },
  {
   "cell_type": "code",
   "execution_count": 17,
   "id": "d422914c-fcf6-4908-b035-08080c09d9df",
   "metadata": {},
   "outputs": [
    {
     "data": {
      "text/html": [
       "<div>\n",
       "<style scoped>\n",
       "    .dataframe tbody tr th:only-of-type {\n",
       "        vertical-align: middle;\n",
       "    }\n",
       "\n",
       "    .dataframe tbody tr th {\n",
       "        vertical-align: top;\n",
       "    }\n",
       "\n",
       "    .dataframe thead th {\n",
       "        text-align: right;\n",
       "    }\n",
       "</style>\n",
       "<table border=\"1\" class=\"dataframe\">\n",
       "  <thead>\n",
       "    <tr style=\"text-align: right;\">\n",
       "      <th></th>\n",
       "      <th>Year</th>\n",
       "      <th>Rainfall_june_to_december</th>\n",
       "      <th>hg_per_ha_yield</th>\n",
       "      <th>Prediction</th>\n",
       "      <th>Accuracy</th>\n",
       "    </tr>\n",
       "  </thead>\n",
       "  <tbody>\n",
       "    <tr>\n",
       "      <th>19</th>\n",
       "      <td>2010</td>\n",
       "      <td>46481.8</td>\n",
       "      <td>33587</td>\n",
       "      <td>31536.94</td>\n",
       "      <td>93.90</td>\n",
       "    </tr>\n",
       "    <tr>\n",
       "      <th>20</th>\n",
       "      <td>2011</td>\n",
       "      <td>43459.5</td>\n",
       "      <td>35878</td>\n",
       "      <td>31536.74</td>\n",
       "      <td>87.90</td>\n",
       "    </tr>\n",
       "    <tr>\n",
       "      <th>21</th>\n",
       "      <td>2012</td>\n",
       "      <td>41000.1</td>\n",
       "      <td>36909</td>\n",
       "      <td>31535.15</td>\n",
       "      <td>85.44</td>\n",
       "    </tr>\n",
       "    <tr>\n",
       "      <th>22</th>\n",
       "      <td>2013</td>\n",
       "      <td>46605.5</td>\n",
       "      <td>36070</td>\n",
       "      <td>31536.93</td>\n",
       "      <td>87.43</td>\n",
       "    </tr>\n",
       "  </tbody>\n",
       "</table>\n",
       "</div>"
      ],
      "text/plain": [
       "    Year  Rainfall_june_to_december  hg_per_ha_yield  Prediction  Accuracy\n",
       "19  2010                    46481.8            33587    31536.94     93.90\n",
       "20  2011                    43459.5            35878    31536.74     87.90\n",
       "21  2012                    41000.1            36909    31535.15     85.44\n",
       "22  2013                    46605.5            36070    31536.93     87.43"
      ]
     },
     "execution_count": 17,
     "metadata": {},
     "output_type": "execute_result"
    }
   ],
   "source": [
    "result2 = model2.predict(df2test[['Rainfall_june_to_december']]).round(2)\n",
    "df2test['Prediction'] = result\n",
    "df2test['Accuracy'] = round(100 - abs(((df2test['Prediction'] - df2test['hg_per_ha_yield'])/df2test['hg_per_ha_yield']) * 100) , 2)\n",
    "df2test"
   ]
  },
  {
   "cell_type": "markdown",
   "id": "2f83f215-3f06-4d19-a3f9-2c7b88e32084",
   "metadata": {},
   "source": [
    "## average accuracy"
   ]
  },
  {
   "cell_type": "code",
   "execution_count": 18,
   "id": "63d1293d-8a9e-473b-9a77-dbd42a35f903",
   "metadata": {},
   "outputs": [
    {
     "data": {
      "text/plain": [
       "88.6675"
      ]
     },
     "execution_count": 18,
     "metadata": {},
     "output_type": "execute_result"
    }
   ],
   "source": [
    "df2test['Accuracy'].mean()"
   ]
  },
  {
   "cell_type": "markdown",
   "id": "157e1c7e-31cc-4468-b537-08e1b4404a6d",
   "metadata": {},
   "source": [
    "# SVM"
   ]
  },
  {
   "cell_type": "markdown",
   "id": "97b27ce3-97ed-4ba2-89f7-a434406d8ff5",
   "metadata": {},
   "source": [
    "## whole data"
   ]
  },
  {
   "cell_type": "code",
   "execution_count": 10,
   "id": "e02d3379-bd3e-4003-bbda-b7c0ad16b886",
   "metadata": {},
   "outputs": [
    {
     "name": "stdout",
     "output_type": "stream",
     "text": [
      "Time Elapsed 0:00:00.006515\n"
     ]
    }
   ],
   "source": [
    "svmModel = svm.SVR()\n",
    "df1train2 , df1test2 = df[:19] , df[19:]\n",
    "start = datetime.now()\n",
    "svmModel.fit( df1train2[['Rainfall_june_to_december']], df1train2.hg_per_ha_yield)\n",
    "print('Time Elapsed', datetime.now()-start)"
   ]
  },
  {
   "cell_type": "code",
   "execution_count": 11,
   "id": "4466da03-7835-4216-baac-d5f3d150b5c7",
   "metadata": {},
   "outputs": [
    {
     "data": {
      "text/html": [
       "<div>\n",
       "<style scoped>\n",
       "    .dataframe tbody tr th:only-of-type {\n",
       "        vertical-align: middle;\n",
       "    }\n",
       "\n",
       "    .dataframe tbody tr th {\n",
       "        vertical-align: top;\n",
       "    }\n",
       "\n",
       "    .dataframe thead th {\n",
       "        text-align: right;\n",
       "    }\n",
       "</style>\n",
       "<table border=\"1\" class=\"dataframe\">\n",
       "  <thead>\n",
       "    <tr style=\"text-align: right;\">\n",
       "      <th></th>\n",
       "      <th>Year</th>\n",
       "      <th>Rainfall_june_to_december</th>\n",
       "      <th>hg_per_ha_yield</th>\n",
       "      <th>Prediction</th>\n",
       "      <th>Accuracy</th>\n",
       "    </tr>\n",
       "  </thead>\n",
       "  <tbody>\n",
       "    <tr>\n",
       "      <th>19</th>\n",
       "      <td>2010</td>\n",
       "      <td>46481.8</td>\n",
       "      <td>33587</td>\n",
       "      <td>28644.73</td>\n",
       "      <td>85.29</td>\n",
       "    </tr>\n",
       "    <tr>\n",
       "      <th>20</th>\n",
       "      <td>2011</td>\n",
       "      <td>43459.5</td>\n",
       "      <td>35878</td>\n",
       "      <td>28645.28</td>\n",
       "      <td>79.84</td>\n",
       "    </tr>\n",
       "    <tr>\n",
       "      <th>21</th>\n",
       "      <td>2012</td>\n",
       "      <td>41000.1</td>\n",
       "      <td>36909</td>\n",
       "      <td>28647.35</td>\n",
       "      <td>77.62</td>\n",
       "    </tr>\n",
       "    <tr>\n",
       "      <th>22</th>\n",
       "      <td>2013</td>\n",
       "      <td>46605.5</td>\n",
       "      <td>36070</td>\n",
       "      <td>28644.79</td>\n",
       "      <td>79.41</td>\n",
       "    </tr>\n",
       "  </tbody>\n",
       "</table>\n",
       "</div>"
      ],
      "text/plain": [
       "    Year  Rainfall_june_to_december  hg_per_ha_yield  Prediction  Accuracy\n",
       "19  2010                    46481.8            33587    28644.73     85.29\n",
       "20  2011                    43459.5            35878    28645.28     79.84\n",
       "21  2012                    41000.1            36909    28647.35     77.62\n",
       "22  2013                    46605.5            36070    28644.79     79.41"
      ]
     },
     "execution_count": 11,
     "metadata": {},
     "output_type": "execute_result"
    }
   ],
   "source": [
    "result = svmModel.predict(df1test2[['Rainfall_june_to_december']]).round(2)\n",
    "df1test2['Prediction'] = result\n",
    "df1test2['Accuracy'] = round(100 - abs(((df1test2['Prediction'] - df1test2['hg_per_ha_yield'])/df1test2['hg_per_ha_yield']) * 100) , 2)\n",
    "df1test2"
   ]
  },
  {
   "cell_type": "markdown",
   "id": "4999c373-337a-409d-a4b5-e1dcb234b2c5",
   "metadata": {},
   "source": [
    "### average accuracy"
   ]
  },
  {
   "cell_type": "code",
   "execution_count": 12,
   "id": "91aa027c-b602-4737-95a8-53e7e5d86953",
   "metadata": {},
   "outputs": [
    {
     "data": {
      "text/plain": [
       "80.53999999999999"
      ]
     },
     "execution_count": 12,
     "metadata": {},
     "output_type": "execute_result"
    }
   ],
   "source": [
    "df1test2['Accuracy'].mean()"
   ]
  },
  {
   "cell_type": "markdown",
   "id": "66ce1565-a496-474b-8386-a6246e15047a",
   "metadata": {},
   "source": [
    "## After 2000"
   ]
  },
  {
   "cell_type": "code",
   "execution_count": 13,
   "id": "6066261e-5afc-44d7-b0d7-f35f3dcfb110",
   "metadata": {},
   "outputs": [
    {
     "name": "stdout",
     "output_type": "stream",
     "text": [
      "Time Elapsed 0:00:00.004998\n"
     ]
    }
   ],
   "source": [
    "svmModel2 = svm.SVR()\n",
    "df2train2 , df2test2 = df2[:9] , df2[9:]\n",
    "start = datetime.now()\n",
    "svmModel2.fit( df2train2[['Rainfall_june_to_december']], df2train2.hg_per_ha_yield)\n",
    "print('Time Elapsed', datetime.now()-start)"
   ]
  },
  {
   "cell_type": "code",
   "execution_count": 14,
   "id": "285fc692-ddc2-4729-920e-9ef79235f4cb",
   "metadata": {},
   "outputs": [
    {
     "data": {
      "text/html": [
       "<div>\n",
       "<style scoped>\n",
       "    .dataframe tbody tr th:only-of-type {\n",
       "        vertical-align: middle;\n",
       "    }\n",
       "\n",
       "    .dataframe tbody tr th {\n",
       "        vertical-align: top;\n",
       "    }\n",
       "\n",
       "    .dataframe thead th {\n",
       "        text-align: right;\n",
       "    }\n",
       "</style>\n",
       "<table border=\"1\" class=\"dataframe\">\n",
       "  <thead>\n",
       "    <tr style=\"text-align: right;\">\n",
       "      <th></th>\n",
       "      <th>Year</th>\n",
       "      <th>Rainfall_june_to_december</th>\n",
       "      <th>hg_per_ha_yield</th>\n",
       "      <th>Prediction</th>\n",
       "      <th>Accuracy</th>\n",
       "    </tr>\n",
       "  </thead>\n",
       "  <tbody>\n",
       "    <tr>\n",
       "      <th>19</th>\n",
       "      <td>2010</td>\n",
       "      <td>46481.8</td>\n",
       "      <td>33587</td>\n",
       "      <td>31536.94</td>\n",
       "      <td>93.90</td>\n",
       "    </tr>\n",
       "    <tr>\n",
       "      <th>20</th>\n",
       "      <td>2011</td>\n",
       "      <td>43459.5</td>\n",
       "      <td>35878</td>\n",
       "      <td>31536.74</td>\n",
       "      <td>87.90</td>\n",
       "    </tr>\n",
       "    <tr>\n",
       "      <th>21</th>\n",
       "      <td>2012</td>\n",
       "      <td>41000.1</td>\n",
       "      <td>36909</td>\n",
       "      <td>31535.15</td>\n",
       "      <td>85.44</td>\n",
       "    </tr>\n",
       "    <tr>\n",
       "      <th>22</th>\n",
       "      <td>2013</td>\n",
       "      <td>46605.5</td>\n",
       "      <td>36070</td>\n",
       "      <td>31536.93</td>\n",
       "      <td>87.43</td>\n",
       "    </tr>\n",
       "  </tbody>\n",
       "</table>\n",
       "</div>"
      ],
      "text/plain": [
       "    Year  Rainfall_june_to_december  hg_per_ha_yield  Prediction  Accuracy\n",
       "19  2010                    46481.8            33587    31536.94     93.90\n",
       "20  2011                    43459.5            35878    31536.74     87.90\n",
       "21  2012                    41000.1            36909    31535.15     85.44\n",
       "22  2013                    46605.5            36070    31536.93     87.43"
      ]
     },
     "execution_count": 14,
     "metadata": {},
     "output_type": "execute_result"
    }
   ],
   "source": [
    "result = svmModel2.predict(df2test2[['Rainfall_june_to_december']]).round(2)\n",
    "df2test2['Prediction'] = result\n",
    "df2test2['Accuracy'] = round(100 - abs(((df2test2['Prediction'] - df2test2['hg_per_ha_yield'])/df2test2['hg_per_ha_yield']) * 100) , 2)\n",
    "df2test2"
   ]
  },
  {
   "cell_type": "markdown",
   "id": "fdbcc250-d33e-4857-b487-7d05d71a7101",
   "metadata": {},
   "source": [
    "### average accuracy"
   ]
  },
  {
   "cell_type": "code",
   "execution_count": 15,
   "id": "9e1a9bab-6145-4b95-b7f8-bfee40ee2502",
   "metadata": {},
   "outputs": [
    {
     "data": {
      "text/plain": [
       "88.6675"
      ]
     },
     "execution_count": 15,
     "metadata": {},
     "output_type": "execute_result"
    }
   ],
   "source": [
    "df2test2['Accuracy'].mean()"
   ]
  }
 ],
 "metadata": {
  "kernelspec": {
   "display_name": "Python 3 (ipykernel)",
   "language": "python",
   "name": "python3"
  },
  "language_info": {
   "codemirror_mode": {
    "name": "ipython",
    "version": 3
   },
   "file_extension": ".py",
   "mimetype": "text/x-python",
   "name": "python",
   "nbconvert_exporter": "python",
   "pygments_lexer": "ipython3",
   "version": "3.11.0"
  }
 },
 "nbformat": 4,
 "nbformat_minor": 5
}
