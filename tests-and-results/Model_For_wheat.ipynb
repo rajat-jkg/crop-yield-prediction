{
 "cells": [
  {
   "cell_type": "code",
   "execution_count": 1,
   "id": "e263b8f0",
   "metadata": {},
   "outputs": [],
   "source": [
    "import pandas as pd\n",
    "import matplotlib.pyplot as mlp\n",
    "from sklearn import linear_model , svm\n",
    "from datetime import datetime"
   ]
  },
  {
   "cell_type": "code",
   "execution_count": 2,
   "id": "d4a7e88d",
   "metadata": {},
   "outputs": [
    {
     "data": {
      "text/html": [
       "<div>\n",
       "<style scoped>\n",
       "    .dataframe tbody tr th:only-of-type {\n",
       "        vertical-align: middle;\n",
       "    }\n",
       "\n",
       "    .dataframe tbody tr th {\n",
       "        vertical-align: top;\n",
       "    }\n",
       "\n",
       "    .dataframe thead th {\n",
       "        text-align: right;\n",
       "    }\n",
       "</style>\n",
       "<table border=\"1\" class=\"dataframe\">\n",
       "  <thead>\n",
       "    <tr style=\"text-align: right;\">\n",
       "      <th></th>\n",
       "      <th>Year</th>\n",
       "      <th>hg_per_ha_yield</th>\n",
       "      <th>Rainfall_jan_april</th>\n",
       "    </tr>\n",
       "  </thead>\n",
       "  <tbody>\n",
       "    <tr>\n",
       "      <th>0</th>\n",
       "      <td>1990</td>\n",
       "      <td>21211</td>\n",
       "      <td>5198.9</td>\n",
       "    </tr>\n",
       "    <tr>\n",
       "      <th>1</th>\n",
       "      <td>1991</td>\n",
       "      <td>22814</td>\n",
       "      <td>3948.0</td>\n",
       "    </tr>\n",
       "    <tr>\n",
       "      <th>2</th>\n",
       "      <td>1992</td>\n",
       "      <td>23940</td>\n",
       "      <td>2937.9</td>\n",
       "    </tr>\n",
       "    <tr>\n",
       "      <th>3</th>\n",
       "      <td>1993</td>\n",
       "      <td>23267</td>\n",
       "      <td>3886.7</td>\n",
       "    </tr>\n",
       "    <tr>\n",
       "      <th>4</th>\n",
       "      <td>1994</td>\n",
       "      <td>23796</td>\n",
       "      <td>4755.0</td>\n",
       "    </tr>\n",
       "    <tr>\n",
       "      <th>5</th>\n",
       "      <td>1995</td>\n",
       "      <td>25590</td>\n",
       "      <td>4516.5</td>\n",
       "    </tr>\n",
       "    <tr>\n",
       "      <th>6</th>\n",
       "      <td>1996</td>\n",
       "      <td>24828</td>\n",
       "      <td>3801.5</td>\n",
       "    </tr>\n",
       "    <tr>\n",
       "      <th>7</th>\n",
       "      <td>1997</td>\n",
       "      <td>26789</td>\n",
       "      <td>3433.6</td>\n",
       "    </tr>\n",
       "    <tr>\n",
       "      <th>8</th>\n",
       "      <td>1998</td>\n",
       "      <td>24852</td>\n",
       "      <td>4522.6</td>\n",
       "    </tr>\n",
       "    <tr>\n",
       "      <th>9</th>\n",
       "      <td>1999</td>\n",
       "      <td>25901</td>\n",
       "      <td>2361.9</td>\n",
       "    </tr>\n",
       "    <tr>\n",
       "      <th>10</th>\n",
       "      <td>2000</td>\n",
       "      <td>27785</td>\n",
       "      <td>4186.8</td>\n",
       "    </tr>\n",
       "    <tr>\n",
       "      <th>11</th>\n",
       "      <td>2001</td>\n",
       "      <td>27081</td>\n",
       "      <td>3571.6</td>\n",
       "    </tr>\n",
       "    <tr>\n",
       "      <th>12</th>\n",
       "      <td>2002</td>\n",
       "      <td>27621</td>\n",
       "      <td>3938.9</td>\n",
       "    </tr>\n",
       "    <tr>\n",
       "      <th>13</th>\n",
       "      <td>2004</td>\n",
       "      <td>27132</td>\n",
       "      <td>3591.8</td>\n",
       "    </tr>\n",
       "    <tr>\n",
       "      <th>14</th>\n",
       "      <td>2005</td>\n",
       "      <td>26016</td>\n",
       "      <td>5433.0</td>\n",
       "    </tr>\n",
       "    <tr>\n",
       "      <th>15</th>\n",
       "      <td>2006</td>\n",
       "      <td>26188</td>\n",
       "      <td>3359.5</td>\n",
       "    </tr>\n",
       "    <tr>\n",
       "      <th>16</th>\n",
       "      <td>2007</td>\n",
       "      <td>27079</td>\n",
       "      <td>3895.7</td>\n",
       "    </tr>\n",
       "    <tr>\n",
       "      <th>17</th>\n",
       "      <td>2008</td>\n",
       "      <td>28022</td>\n",
       "      <td>4612.3</td>\n",
       "    </tr>\n",
       "    <tr>\n",
       "      <th>18</th>\n",
       "      <td>2009</td>\n",
       "      <td>29071</td>\n",
       "      <td>2399.4</td>\n",
       "    </tr>\n",
       "    <tr>\n",
       "      <th>19</th>\n",
       "      <td>2010</td>\n",
       "      <td>28395</td>\n",
       "      <td>3265.3</td>\n",
       "    </tr>\n",
       "    <tr>\n",
       "      <th>20</th>\n",
       "      <td>2011</td>\n",
       "      <td>29886</td>\n",
       "      <td>4110.5</td>\n",
       "    </tr>\n",
       "    <tr>\n",
       "      <th>21</th>\n",
       "      <td>2012</td>\n",
       "      <td>31775</td>\n",
       "      <td>3834.7</td>\n",
       "    </tr>\n",
       "    <tr>\n",
       "      <th>22</th>\n",
       "      <td>2013</td>\n",
       "      <td>31538</td>\n",
       "      <td>3519.0</td>\n",
       "    </tr>\n",
       "    <tr>\n",
       "      <th>23</th>\n",
       "      <td>2014</td>\n",
       "      <td>31454</td>\n",
       "      <td>3359.6</td>\n",
       "    </tr>\n",
       "    <tr>\n",
       "      <th>24</th>\n",
       "      <td>2015</td>\n",
       "      <td>27498</td>\n",
       "      <td>5898.0</td>\n",
       "    </tr>\n",
       "  </tbody>\n",
       "</table>\n",
       "</div>"
      ],
      "text/plain": [
       "    Year  hg_per_ha_yield  Rainfall_jan_april\n",
       "0   1990            21211              5198.9\n",
       "1   1991            22814              3948.0\n",
       "2   1992            23940              2937.9\n",
       "3   1993            23267              3886.7\n",
       "4   1994            23796              4755.0\n",
       "5   1995            25590              4516.5\n",
       "6   1996            24828              3801.5\n",
       "7   1997            26789              3433.6\n",
       "8   1998            24852              4522.6\n",
       "9   1999            25901              2361.9\n",
       "10  2000            27785              4186.8\n",
       "11  2001            27081              3571.6\n",
       "12  2002            27621              3938.9\n",
       "13  2004            27132              3591.8\n",
       "14  2005            26016              5433.0\n",
       "15  2006            26188              3359.5\n",
       "16  2007            27079              3895.7\n",
       "17  2008            28022              4612.3\n",
       "18  2009            29071              2399.4\n",
       "19  2010            28395              3265.3\n",
       "20  2011            29886              4110.5\n",
       "21  2012            31775              3834.7\n",
       "22  2013            31538              3519.0\n",
       "23  2014            31454              3359.6\n",
       "24  2015            27498              5898.0"
      ]
     },
     "execution_count": 2,
     "metadata": {},
     "output_type": "execute_result"
    }
   ],
   "source": [
    "pd.options.mode.copy_on_write = True\n",
    "df = pd.read_csv('wheat-data.csv')\n",
    "df"
   ]
  },
  {
   "cell_type": "code",
   "execution_count": 3,
   "id": "af0eeb57",
   "metadata": {},
   "outputs": [
    {
     "data": {
      "text/plain": [
       "<matplotlib.collections.PathCollection at 0x2713b830cb0>"
      ]
     },
     "execution_count": 3,
     "metadata": {},
     "output_type": "execute_result"
    },
    {
     "data": {
      "image/png": "[encoded data removed]",
      "text/plain": [
       "<Figure size 640x480 with 1 Axes>"
      ]
     },
     "metadata": {},
     "output_type": "display_data"
    }
   ],
   "source": [
    "%matplotlib inline\n",
    "mlp.scatter(df['Rainfall_jan_april'],df['hg_per_ha_yield'])"
   ]
  },
  {
   "cell_type": "code",
   "execution_count": 4,
   "id": "97e6c0c8-ab96-44b8-89fc-09dab003dd03",
   "metadata": {},
   "outputs": [
    {
     "data": {
      "text/html": [
       "<div>\n",
       "<style scoped>\n",
       "    .dataframe tbody tr th:only-of-type {\n",
       "        vertical-align: middle;\n",
       "    }\n",
       "\n",
       "    .dataframe tbody tr th {\n",
       "        vertical-align: top;\n",
       "    }\n",
       "\n",
       "    .dataframe thead th {\n",
       "        text-align: right;\n",
       "    }\n",
       "</style>\n",
       "<table border=\"1\" class=\"dataframe\">\n",
       "  <thead>\n",
       "    <tr style=\"text-align: right;\">\n",
       "      <th></th>\n",
       "      <th>Year</th>\n",
       "      <th>hg_per_ha_yield</th>\n",
       "      <th>Rainfall_jan_april</th>\n",
       "    </tr>\n",
       "  </thead>\n",
       "  <tbody>\n",
       "    <tr>\n",
       "      <th>11</th>\n",
       "      <td>2001</td>\n",
       "      <td>27081</td>\n",
       "      <td>3571.6</td>\n",
       "    </tr>\n",
       "    <tr>\n",
       "      <th>12</th>\n",
       "      <td>2002</td>\n",
       "      <td>27621</td>\n",
       "      <td>3938.9</td>\n",
       "    </tr>\n",
       "    <tr>\n",
       "      <th>13</th>\n",
       "      <td>2004</td>\n",
       "      <td>27132</td>\n",
       "      <td>3591.8</td>\n",
       "    </tr>\n",
       "    <tr>\n",
       "      <th>14</th>\n",
       "      <td>2005</td>\n",
       "      <td>26016</td>\n",
       "      <td>5433.0</td>\n",
       "    </tr>\n",
       "    <tr>\n",
       "      <th>15</th>\n",
       "      <td>2006</td>\n",
       "      <td>26188</td>\n",
       "      <td>3359.5</td>\n",
       "    </tr>\n",
       "  </tbody>\n",
       "</table>\n",
       "</div>"
      ],
      "text/plain": [
       "    Year  hg_per_ha_yield  Rainfall_jan_april\n",
       "11  2001            27081              3571.6\n",
       "12  2002            27621              3938.9\n",
       "13  2004            27132              3591.8\n",
       "14  2005            26016              5433.0\n",
       "15  2006            26188              3359.5"
      ]
     },
     "execution_count": 4,
     "metadata": {},
     "output_type": "execute_result"
    }
   ],
   "source": [
    "df2 = df[11:]\n",
    "df2.head()"
   ]
  },
  {
   "cell_type": "code",
   "execution_count": 5,
   "id": "ca338977-939f-4e2b-af7f-13e00086ac6e",
   "metadata": {},
   "outputs": [
    {
     "data": {
      "text/plain": [
       "<matplotlib.collections.PathCollection at 0x2713bc93e00>"
      ]
     },
     "execution_count": 5,
     "metadata": {},
     "output_type": "execute_result"
    },
    {
     "data": {
      "image/png": "[encoded data removed]",
      "text/plain": [
       "<Figure size 640x480 with 1 Axes>"
      ]
     },
     "metadata": {},
     "output_type": "display_data"
    }
   ],
   "source": [
    "%matplotlib inline\n",
    "mlp.scatter(df2['Rainfall_jan_april'],df2['hg_per_ha_yield'], marker='*')"
   ]
  },
  {
   "cell_type": "markdown",
   "id": "76eebf9f-47d9-41d4-a862-061fe75c8ea2",
   "metadata": {},
   "source": [
    "# Linear Regression"
   ]
  },
  {
   "cell_type": "markdown",
   "id": "52bcc564-4843-4187-967a-7deeb685564e",
   "metadata": {},
   "source": [
    "## Whole data"
   ]
  },
  {
   "cell_type": "code",
   "execution_count": 6,
   "id": "4adc8474",
   "metadata": {},
   "outputs": [
    {
     "name": "stdout",
     "output_type": "stream",
     "text": [
      "Time Elapsed 0:00:00.021899\n"
     ]
    }
   ],
   "source": [
    "model = linear_model.LinearRegression()\n",
    "# test train split\n",
    "df1train , df1test = df[:20] , df[20:]\n",
    "#model fitting\n",
    "start = datetime.now()\n",
    "model.fit(df1train[['Rainfall_jan_april']], df1train.hg_per_ha_yield)\n",
    "print('Time Elapsed', datetime.now()-start)"
   ]
  },
  {
   "cell_type": "markdown",
   "id": "44d1f541-15be-4751-a1ad-560619290126",
   "metadata": {},
   "source": [
    "### Prediction"
   ]
  },
  {
   "cell_type": "code",
   "execution_count": 7,
   "id": "5129302f",
   "metadata": {},
   "outputs": [
    {
     "data": {
      "text/plain": [
       "array([25648.84, 25913.12, 26215.63, 26368.38, 23935.99])"
      ]
     },
     "execution_count": 7,
     "metadata": {},
     "output_type": "execute_result"
    }
   ],
   "source": [
    "result = model.predict(df1test[['Rainfall_jan_april']]).round(2)\n",
    "result "
   ]
  },
  {
   "cell_type": "code",
   "execution_count": 8,
   "id": "59cfb6fd",
   "metadata": {},
   "outputs": [],
   "source": [
    "df1test\n",
    "df1test['predicted value'] = result\n",
    "df1test['Accuracy'] = round(100 - abs(((df1test['predicted value'] - df1test['hg_per_ha_yield'])/df1test['hg_per_ha_yield']) * 100) , 2)"
   ]
  },
  {
   "cell_type": "code",
   "execution_count": 9,
   "id": "754b18ae-76d3-468d-a46e-a7d0e5d5b4bf",
   "metadata": {},
   "outputs": [
    {
     "data": {
      "text/html": [
       "<div>\n",
       "<style scoped>\n",
       "    .dataframe tbody tr th:only-of-type {\n",
       "        vertical-align: middle;\n",
       "    }\n",
       "\n",
       "    .dataframe tbody tr th {\n",
       "        vertical-align: top;\n",
       "    }\n",
       "\n",
       "    .dataframe thead th {\n",
       "        text-align: right;\n",
       "    }\n",
       "</style>\n",
       "<table border=\"1\" class=\"dataframe\">\n",
       "  <thead>\n",
       "    <tr style=\"text-align: right;\">\n",
       "      <th></th>\n",
       "      <th>Year</th>\n",
       "      <th>hg_per_ha_yield</th>\n",
       "      <th>Rainfall_jan_april</th>\n",
       "      <th>predicted value</th>\n",
       "      <th>Accuracy</th>\n",
       "    </tr>\n",
       "  </thead>\n",
       "  <tbody>\n",
       "    <tr>\n",
       "      <th>20</th>\n",
       "      <td>2011</td>\n",
       "      <td>29886</td>\n",
       "      <td>4110.5</td>\n",
       "      <td>25648.84</td>\n",
       "      <td>85.82</td>\n",
       "    </tr>\n",
       "    <tr>\n",
       "      <th>21</th>\n",
       "      <td>2012</td>\n",
       "      <td>31775</td>\n",
       "      <td>3834.7</td>\n",
       "      <td>25913.12</td>\n",
       "      <td>81.55</td>\n",
       "    </tr>\n",
       "    <tr>\n",
       "      <th>22</th>\n",
       "      <td>2013</td>\n",
       "      <td>31538</td>\n",
       "      <td>3519.0</td>\n",
       "      <td>26215.63</td>\n",
       "      <td>83.12</td>\n",
       "    </tr>\n",
       "    <tr>\n",
       "      <th>23</th>\n",
       "      <td>2014</td>\n",
       "      <td>31454</td>\n",
       "      <td>3359.6</td>\n",
       "      <td>26368.38</td>\n",
       "      <td>83.83</td>\n",
       "    </tr>\n",
       "    <tr>\n",
       "      <th>24</th>\n",
       "      <td>2015</td>\n",
       "      <td>27498</td>\n",
       "      <td>5898.0</td>\n",
       "      <td>23935.99</td>\n",
       "      <td>87.05</td>\n",
       "    </tr>\n",
       "  </tbody>\n",
       "</table>\n",
       "</div>"
      ],
      "text/plain": [
       "    Year  hg_per_ha_yield  Rainfall_jan_april  predicted value  Accuracy\n",
       "20  2011            29886              4110.5         25648.84     85.82\n",
       "21  2012            31775              3834.7         25913.12     81.55\n",
       "22  2013            31538              3519.0         26215.63     83.12\n",
       "23  2014            31454              3359.6         26368.38     83.83\n",
       "24  2015            27498              5898.0         23935.99     87.05"
      ]
     },
     "execution_count": 9,
     "metadata": {},
     "output_type": "execute_result"
    }
   ],
   "source": [
    "df1test"
   ]
  },
  {
   "cell_type": "code",
   "execution_count": 10,
   "id": "a64938c2-58e2-4698-85c7-47d9076fd191",
   "metadata": {},
   "outputs": [
    {
     "name": "stdout",
     "output_type": "stream",
     "text": [
      "Average accuracy 84.274\n"
     ]
    }
   ],
   "source": [
    "print('Average accuracy', df1test['Accuracy'].mean())"
   ]
  },
  {
   "cell_type": "markdown",
   "id": "6f246720-0942-4aa0-b053-7f57f97c695a",
   "metadata": {},
   "source": [
    "## Filtering down data. (We have eleminated the data before the year 2000)"
   ]
  },
  {
   "cell_type": "code",
   "execution_count": 11,
   "id": "5b3ffd8c-129c-4f8e-8e26-67dbbeb7e043",
   "metadata": {},
   "outputs": [
    {
     "name": "stdout",
     "output_type": "stream",
     "text": [
      "Time Elapsed 0:00:00\n"
     ]
    }
   ],
   "source": [
    "model2 = linear_model.LinearRegression()\n",
    "# test train split\n",
    "df2train , df2test = df2[:10] , df2[10:]\n",
    "#model fitting\n",
    "start = datetime.now()\n",
    "model2.fit(df2train[['Rainfall_jan_april']], df2train.hg_per_ha_yield)\n",
    "print('Time Elapsed', datetime.now()-start)"
   ]
  },
  {
   "cell_type": "code",
   "execution_count": 12,
   "id": "07f44eb4-9235-4535-bdc6-5e061c1807b9",
   "metadata": {},
   "outputs": [
    {
     "data": {
      "text/plain": [
       "array([27639.96, 27810.71, 27896.92, 26524.03])"
      ]
     },
     "execution_count": 12,
     "metadata": {},
     "output_type": "execute_result"
    }
   ],
   "source": [
    "result2 = model2.predict(df2test[['Rainfall_jan_april']]).round(2)\n",
    "result2"
   ]
  },
  {
   "cell_type": "code",
   "execution_count": 13,
   "id": "63f34798-7c94-4cf6-8f2e-d5cfe4ddcbe1",
   "metadata": {},
   "outputs": [],
   "source": [
    "df2test\n",
    "df2test['predicted value'] = result2\n",
    "df2test['Accuracy'] = round(100 - abs(((df2test['predicted value'] - df2test['hg_per_ha_yield'])/df2test['hg_per_ha_yield']) * 100) , 2)"
   ]
  },
  {
   "cell_type": "code",
   "execution_count": 14,
   "id": "18cbf5ac-e364-4592-847d-0bcea6f9d564",
   "metadata": {},
   "outputs": [
    {
     "data": {
      "text/html": [
       "<div>\n",
       "<style scoped>\n",
       "    .dataframe tbody tr th:only-of-type {\n",
       "        vertical-align: middle;\n",
       "    }\n",
       "\n",
       "    .dataframe tbody tr th {\n",
       "        vertical-align: top;\n",
       "    }\n",
       "\n",
       "    .dataframe thead th {\n",
       "        text-align: right;\n",
       "    }\n",
       "</style>\n",
       "<table border=\"1\" class=\"dataframe\">\n",
       "  <thead>\n",
       "    <tr style=\"text-align: right;\">\n",
       "      <th></th>\n",
       "      <th>Year</th>\n",
       "      <th>hg_per_ha_yield</th>\n",
       "      <th>Rainfall_jan_april</th>\n",
       "      <th>predicted value</th>\n",
       "      <th>Accuracy</th>\n",
       "    </tr>\n",
       "  </thead>\n",
       "  <tbody>\n",
       "    <tr>\n",
       "      <th>21</th>\n",
       "      <td>2012</td>\n",
       "      <td>31775</td>\n",
       "      <td>3834.7</td>\n",
       "      <td>27639.96</td>\n",
       "      <td>86.99</td>\n",
       "    </tr>\n",
       "    <tr>\n",
       "      <th>22</th>\n",
       "      <td>2013</td>\n",
       "      <td>31538</td>\n",
       "      <td>3519.0</td>\n",
       "      <td>27810.71</td>\n",
       "      <td>88.18</td>\n",
       "    </tr>\n",
       "    <tr>\n",
       "      <th>23</th>\n",
       "      <td>2014</td>\n",
       "      <td>31454</td>\n",
       "      <td>3359.6</td>\n",
       "      <td>27896.92</td>\n",
       "      <td>88.69</td>\n",
       "    </tr>\n",
       "    <tr>\n",
       "      <th>24</th>\n",
       "      <td>2015</td>\n",
       "      <td>27498</td>\n",
       "      <td>5898.0</td>\n",
       "      <td>26524.03</td>\n",
       "      <td>96.46</td>\n",
       "    </tr>\n",
       "  </tbody>\n",
       "</table>\n",
       "</div>"
      ],
      "text/plain": [
       "    Year  hg_per_ha_yield  Rainfall_jan_april  predicted value  Accuracy\n",
       "21  2012            31775              3834.7         27639.96     86.99\n",
       "22  2013            31538              3519.0         27810.71     88.18\n",
       "23  2014            31454              3359.6         27896.92     88.69\n",
       "24  2015            27498              5898.0         26524.03     96.46"
      ]
     },
     "execution_count": 14,
     "metadata": {},
     "output_type": "execute_result"
    }
   ],
   "source": [
    "df2test"
   ]
  },
  {
   "cell_type": "code",
   "execution_count": 15,
   "id": "94f64bd1-3896-40ea-93dc-36aa7eb8f286",
   "metadata": {},
   "outputs": [
    {
     "name": "stdout",
     "output_type": "stream",
     "text": [
      "Average accuracy 90.08\n"
     ]
    }
   ],
   "source": [
    "print('Average accuracy', df2test['Accuracy'].mean())"
   ]
  },
  {
   "cell_type": "markdown",
   "id": "131a7733-6120-4b09-9a26-910f88bda10c",
   "metadata": {},
   "source": [
    "# SVM (Support Vector machine)"
   ]
  },
  {
   "cell_type": "markdown",
   "id": "feffcd97-28d9-451e-9091-e715a82cbe88",
   "metadata": {},
   "source": [
    "## Whole Data"
   ]
  },
  {
   "cell_type": "code",
   "execution_count": 16,
   "id": "246e9160-b3c1-4d05-a9c6-2ac9f8024ae2",
   "metadata": {},
   "outputs": [
    {
     "name": "stdout",
     "output_type": "stream",
     "text": [
      "Time Elapsed 0:00:00.007999\n"
     ]
    }
   ],
   "source": [
    "#train test split\n",
    "df1train2 , df1test2 = df[:20] , df[20:]\n",
    "start = datetime.now()\n",
    "svmModel1 = svm.SVR()\n",
    "svmModel1.fit(df1train2[['Rainfall_jan_april']], df1train2.hg_per_ha_yield)\n",
    "print('Time Elapsed', datetime.now()-start)"
   ]
  },
  {
   "cell_type": "code",
   "execution_count": 17,
   "id": "33908331-df1d-4e14-8e74-a312d784a0e6",
   "metadata": {},
   "outputs": [
    {
     "data": {
      "text/plain": [
       "array([26102.44, 26104.04, 26105.03, 26105.  , 26100.19])"
      ]
     },
     "execution_count": 17,
     "metadata": {},
     "output_type": "execute_result"
    }
   ],
   "source": [
    "result = svmModel1.predict(df1test2[['Rainfall_jan_april']]).round(2)\n",
    "result"
   ]
  },
  {
   "cell_type": "code",
   "execution_count": 18,
   "id": "dc5bf83b-3f21-4bed-a51a-2c0a6e23231f",
   "metadata": {},
   "outputs": [
    {
     "data": {
      "text/html": [
       "<div>\n",
       "<style scoped>\n",
       "    .dataframe tbody tr th:only-of-type {\n",
       "        vertical-align: middle;\n",
       "    }\n",
       "\n",
       "    .dataframe tbody tr th {\n",
       "        vertical-align: top;\n",
       "    }\n",
       "\n",
       "    .dataframe thead th {\n",
       "        text-align: right;\n",
       "    }\n",
       "</style>\n",
       "<table border=\"1\" class=\"dataframe\">\n",
       "  <thead>\n",
       "    <tr style=\"text-align: right;\">\n",
       "      <th></th>\n",
       "      <th>Year</th>\n",
       "      <th>hg_per_ha_yield</th>\n",
       "      <th>Rainfall_jan_april</th>\n",
       "      <th>Predivtion</th>\n",
       "      <th>Accuracy</th>\n",
       "    </tr>\n",
       "  </thead>\n",
       "  <tbody>\n",
       "    <tr>\n",
       "      <th>20</th>\n",
       "      <td>2011</td>\n",
       "      <td>29886</td>\n",
       "      <td>4110.5</td>\n",
       "      <td>26102.44</td>\n",
       "      <td>87.34</td>\n",
       "    </tr>\n",
       "    <tr>\n",
       "      <th>21</th>\n",
       "      <td>2012</td>\n",
       "      <td>31775</td>\n",
       "      <td>3834.7</td>\n",
       "      <td>26104.04</td>\n",
       "      <td>82.15</td>\n",
       "    </tr>\n",
       "    <tr>\n",
       "      <th>22</th>\n",
       "      <td>2013</td>\n",
       "      <td>31538</td>\n",
       "      <td>3519.0</td>\n",
       "      <td>26105.03</td>\n",
       "      <td>82.77</td>\n",
       "    </tr>\n",
       "    <tr>\n",
       "      <th>23</th>\n",
       "      <td>2014</td>\n",
       "      <td>31454</td>\n",
       "      <td>3359.6</td>\n",
       "      <td>26105.00</td>\n",
       "      <td>82.99</td>\n",
       "    </tr>\n",
       "    <tr>\n",
       "      <th>24</th>\n",
       "      <td>2015</td>\n",
       "      <td>27498</td>\n",
       "      <td>5898.0</td>\n",
       "      <td>26100.19</td>\n",
       "      <td>94.92</td>\n",
       "    </tr>\n",
       "  </tbody>\n",
       "</table>\n",
       "</div>"
      ],
      "text/plain": [
       "    Year  hg_per_ha_yield  Rainfall_jan_april  Predivtion  Accuracy\n",
       "20  2011            29886              4110.5    26102.44     87.34\n",
       "21  2012            31775              3834.7    26104.04     82.15\n",
       "22  2013            31538              3519.0    26105.03     82.77\n",
       "23  2014            31454              3359.6    26105.00     82.99\n",
       "24  2015            27498              5898.0    26100.19     94.92"
      ]
     },
     "execution_count": 18,
     "metadata": {},
     "output_type": "execute_result"
    }
   ],
   "source": [
    "df1test2['Predivtion'] = result\n",
    "df1test2['Accuracy'] = round(100 - abs(((df1test2['Predivtion'] - df1test2['hg_per_ha_yield'])/df1test2['hg_per_ha_yield']) * 100) , 2)\n",
    "df1test2"
   ]
  },
  {
   "cell_type": "code",
   "execution_count": 19,
   "id": "d3aa8fe2-4492-4e47-af2b-7326815b3deb",
   "metadata": {},
   "outputs": [
    {
     "name": "stdout",
     "output_type": "stream",
     "text": [
      "Average accuracy 86.034\n"
     ]
    }
   ],
   "source": [
    "print('Average accuracy', df1test2['Accuracy'].mean())"
   ]
  },
  {
   "cell_type": "markdown",
   "id": "ab332e39-71e4-4483-bf74-231f903cd561",
   "metadata": {},
   "source": [
    "## Filtered data (From 2001)"
   ]
  },
  {
   "cell_type": "code",
   "execution_count": 20,
   "id": "ea9632ef-b4d8-4352-adf2-8973e659be85",
   "metadata": {},
   "outputs": [
    {
     "name": "stdout",
     "output_type": "stream",
     "text": [
      "Yeild in 2016: 24000 hg/ha\n",
      "Yeild predicted for 2016: 26826.795332798465 hg/ha\n",
      "Accuracy in prediction 88.22%\n"
     ]
    },
    {
     "name": "stderr",
     "output_type": "stream",
     "text": [
      "C:\\Users\\rajat\\AppData\\Local\\Packages\\PythonSoftwareFoundation.Python.3.12_qbz5n2kfra8p0\\LocalCache\\local-packages\\Python312\\site-packages\\sklearn\\base.py:493: UserWarning: X does not have valid feature names, but LinearRegression was fitted with feature names\n",
      "  warnings.warn(\n"
     ]
    }
   ],
   "source": [
    "predicted_value = model.predict([[2881.2]])[0]\n",
    "print(\"Yeild in 2016:\", 24000, \"hg/ha\")\n",
    "print(\"Yeild predicted for 2016:\", predicted_value, \"hg/ha\")\n",
    "print(\"Accuracy in prediction\",round(100-(abs((24000-predicted_value)/24000)*100),2), '\\b%')"
   ]
  },
  {
   "cell_type": "code",
   "execution_count": 21,
   "id": "7e1bf327-a3aa-4b67-adde-d19b3aee78e3",
   "metadata": {},
   "outputs": [
    {
     "name": "stdout",
     "output_type": "stream",
     "text": [
      "Time Elapsed 0:00:00.007466\n"
     ]
    }
   ],
   "source": [
    "svmModel2 = svm.SVR()\n",
    "# test train split\n",
    "df2train2 , df2test2 = df2[:10] , df2[10:]\n",
    "#model fitting\n",
    "start = datetime.now()\n",
    "svmModel2.fit(df2train2[['Rainfall_jan_april']], df2train2.hg_per_ha_yield)\n",
    "print('Time Elapsed', datetime.now()-start)"
   ]
  },
  {
   "cell_type": "code",
   "execution_count": 22,
   "id": "ed1177d0-62e1-4f23-9c58-953f44683cab",
   "metadata": {},
   "outputs": [
    {
     "name": "stdout",
     "output_type": "stream",
     "text": [
      "25390.59 hg/ha\n"
     ]
    },
    {
     "name": "stderr",
     "output_type": "stream",
     "text": [
      "C:\\Users\\rajat\\AppData\\Local\\Packages\\PythonSoftwareFoundation.Python.3.12_qbz5n2kfra8p0\\LocalCache\\local-packages\\Python312\\site-packages\\sklearn\\base.py:493: UserWarning: X does not have valid feature names, but LinearRegression was fitted with feature names\n",
      "  warnings.warn(\n"
     ]
    }
   ],
   "source": [
    "print(round(model.predict([[4380]])[0],2),'hg/ha')"
   ]
  },
  {
   "cell_type": "code",
   "execution_count": 23,
   "id": "45c437b6-c73d-4ab5-8a59-33f34f6fabb3",
   "metadata": {},
   "outputs": [
    {
     "data": {
      "text/plain": [
       "array([27376.61, 27375.98, 27376.03, 27376.63])"
      ]
     },
     "execution_count": 23,
     "metadata": {},
     "output_type": "execute_result"
    }
   ],
   "source": [
    "result = svmModel2.predict(df2test2[['Rainfall_jan_april']]).round(2)\n",
    "result"
   ]
  },
  {
   "cell_type": "code",
   "execution_count": 24,
   "id": "6ccefe0f-c2c5-4a53-a86d-384f547a4aea",
   "metadata": {},
   "outputs": [
    {
     "data": {
      "text/html": [
       "<div>\n",
       "<style scoped>\n",
       "    .dataframe tbody tr th:only-of-type {\n",
       "        vertical-align: middle;\n",
       "    }\n",
       "\n",
       "    .dataframe tbody tr th {\n",
       "        vertical-align: top;\n",
       "    }\n",
       "\n",
       "    .dataframe thead th {\n",
       "        text-align: right;\n",
       "    }\n",
       "</style>\n",
       "<table border=\"1\" class=\"dataframe\">\n",
       "  <thead>\n",
       "    <tr style=\"text-align: right;\">\n",
       "      <th></th>\n",
       "      <th>Year</th>\n",
       "      <th>hg_per_ha_yield</th>\n",
       "      <th>Rainfall_jan_april</th>\n",
       "      <th>Prediction</th>\n",
       "      <th>Accuracy</th>\n",
       "    </tr>\n",
       "  </thead>\n",
       "  <tbody>\n",
       "    <tr>\n",
       "      <th>21</th>\n",
       "      <td>2012</td>\n",
       "      <td>31775</td>\n",
       "      <td>3834.7</td>\n",
       "      <td>27376.61</td>\n",
       "      <td>86.16</td>\n",
       "    </tr>\n",
       "    <tr>\n",
       "      <th>22</th>\n",
       "      <td>2013</td>\n",
       "      <td>31538</td>\n",
       "      <td>3519.0</td>\n",
       "      <td>27375.98</td>\n",
       "      <td>86.80</td>\n",
       "    </tr>\n",
       "    <tr>\n",
       "      <th>23</th>\n",
       "      <td>2014</td>\n",
       "      <td>31454</td>\n",
       "      <td>3359.6</td>\n",
       "      <td>27376.03</td>\n",
       "      <td>87.04</td>\n",
       "    </tr>\n",
       "    <tr>\n",
       "      <th>24</th>\n",
       "      <td>2015</td>\n",
       "      <td>27498</td>\n",
       "      <td>5898.0</td>\n",
       "      <td>27376.63</td>\n",
       "      <td>99.56</td>\n",
       "    </tr>\n",
       "  </tbody>\n",
       "</table>\n",
       "</div>"
      ],
      "text/plain": [
       "    Year  hg_per_ha_yield  Rainfall_jan_april  Prediction  Accuracy\n",
       "21  2012            31775              3834.7    27376.61     86.16\n",
       "22  2013            31538              3519.0    27375.98     86.80\n",
       "23  2014            31454              3359.6    27376.03     87.04\n",
       "24  2015            27498              5898.0    27376.63     99.56"
      ]
     },
     "execution_count": 24,
     "metadata": {},
     "output_type": "execute_result"
    }
   ],
   "source": [
    "df2test2['Prediction'] = result\n",
    "df2test2['Accuracy'] = round(100 - abs(((df2test2['Prediction'] - df2test2['hg_per_ha_yield'])/df2test2['hg_per_ha_yield']) * 100) , 2)\n",
    "df2test2"
   ]
  },
  {
   "cell_type": "code",
   "execution_count": 25,
   "id": "d95400c5-9ac7-46f1-836a-07816628945f",
   "metadata": {},
   "outputs": [
    {
     "name": "stdout",
     "output_type": "stream",
     "text": [
      "Average accuracy 89.89\n"
     ]
    }
   ],
   "source": [
    "print('Average accuracy', df2test2['Accuracy'].mean())"
   ]
  }
 ],
 "metadata": {
  "kernelspec": {
   "display_name": "Python 3 (ipykernel)",
   "language": "python",
   "name": "python3"
  },
  "language_info": {
   "codemirror_mode": {
    "name": "ipython",
    "version": 3
   },
   "file_extension": ".py",
   "mimetype": "text/x-python",
   "name": "python",
   "nbconvert_exporter": "python",
   "pygments_lexer": "ipython3",
   "version": "3.11.0"
  }
 },
 "nbformat": 4,
 "nbformat_minor": 5
}
